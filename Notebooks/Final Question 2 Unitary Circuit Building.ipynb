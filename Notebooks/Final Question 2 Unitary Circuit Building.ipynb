{
 "cells": [
  {
   "cell_type": "markdown",
   "metadata": {
    "colab_type": "text",
    "id": "o4QmdyVMK1LG"
   },
   "source": [
    "# Circuit Decomposition\n",
    "\n",
    "You may recall from your quantum mechanics course that quantum theory is unitary. The aim of a quantum computer essentially boils down to executing unitaries and as you have seen previously we also explored universality in quantum computing\n",
    "\n",
    "**\"A set of quantum gates is said to be universal if any unitary transformation of the quantum data can be efficiently approximated arbitrarily well as a sequence of gates in the set.\"** (https://qiskit.org/textbook/ch-algorithms/defining-quantum-circuits.html)\n",
    "\n",
    "Every gate you run on the IBM Quantum Experience is transpiled into single qubit rotations and CNOT (CX) gates. We know that these constitute a universal gate set, which implies that any unitary can be implemented using only these gates. However, in general it is not easy to find a good decomposition for an arbitrary unitary. Your task is to find such a decomposition for given unitary."
   ]
  },
  {
   "cell_type": "markdown",
   "metadata": {
    "colab_type": "text",
    "id": "SpKn-fs6K1LH"
   },
   "source": [
    "First off let us import the required functions for checking circuit and supplying the unitary."
   ]
  },
  {
   "cell_type": "code",
   "execution_count": null,
   "metadata": {
    "colab": {},
    "colab_type": "code",
    "id": "m8y54EWQK1LH"
   },
   "outputs": [],
   "source": [
    "# Importing standard Qiskit libraries and configuring account\n",
    "from qiskit import *\n",
    "from qiskit.compiler import *\n",
    "from qiskit.tools.jupyter import *\n",
    "from qiskit.visualization import *\n",
    "import matplotlib.pyplot as plotter\n",
    "import scipy\n",
    "import numpy as np\n",
    "from IPython.display import display, Math, Latex\n",
    "import qiskit.quantum_info as qi\n",
    "%matplotlib inline\n",
    "%pip install -I git+https://github.com/mnp-club/MnP_QC_Workshop.git\n",
    "from mnp_qc_workshop_2020.unitary_circuit import *"
   ]
  },
  {
   "cell_type": "markdown",
   "metadata": {
    "colab_type": "text",
    "id": "_CVsHXouK1LL"
   },
   "source": [
    "<p>Now you can have a look at the unitary. We are just going to plot some graphs to give an idea of what it looks like.</p>"
   ]
  },
  {
   "cell_type": "code",
   "execution_count": null,
   "metadata": {
    "colab": {},
    "colab_type": "code",
    "id": "08zbPBmbK1LL"
   },
   "outputs": [],
   "source": [
    "U = get_unitary()\n",
    "print(U.shape)\n",
    "fig, (ax1, ax2) = plotter.subplots(nrows = 1, ncols = 2, figsize=(12,6))\n",
    "ax1.imshow(np.real(U)) #plot real parts of each element\n",
    "ax2.imshow(np.imag(U)) #plot imaginary parts of each element\n",
    "fig, (ax3, ax4) = plotter.subplots(nrows = 1, ncols = 2, figsize=(12,6))\n",
    "ax3.imshow(np.abs(U)) #plot the absolute values of each element\n",
    "ax4.imshow(np.angle(U)) #plot the phase angles of each element"
   ]
  },
  {
   "cell_type": "markdown",
   "metadata": {
    "colab_type": "text",
    "id": "c1TY8cvgK1LO"
   },
   "source": [
    "<p>Although the unitary doesnt look all that pleasant, it is symmetric and also has some interesting properties which it would disclose if you happen to do some modifications to it. You might find it to show some cleaner shape if you happen to multiply certain things to it.</p>"
   ]
  },
  {
   "cell_type": "markdown",
   "metadata": {
    "colab_type": "text",
    "id": "6-HpII9xK1LO"
   },
   "source": [
    "## Your task\n",
    "\n",
    "**Using only single qubit rotations and CNOT gates, find a quantum circuit that approximates that unitary $U$ by a unitary $V$ up to an error $\\varepsilon = 0.01$, such that $\\lVert U - V\\rVert_2 \\leq \\varepsilon$ !** \n",
    "\n",
    "Note that the norm we are using here is the spectral norm, $\\qquad \\lVert A \\rVert_2 = \\max_{\\lVert \\psi \\rVert_2= 1} \\lVert A \\psi \\rVert$.\n",
    "\n",
    "This can be seen as the largest scaling factor that the matrix $A$ has on any initial (normalized) state $\\psi$. One can show that this norm corresponds to the largest singular value of $A$, i.e., the square root of the largest eigenvalue of the matrix $A^\\dagger A$, where $A^{\\dagger}$ denotes the conjugate transpose of $A$.\n",
    "\n",
    "**When you submit a circuit, we remove the global phase of the corresponding unitary $V$ before comparing it with $U$ using the spectral norm. For example, if you submit a circuit that generates $V = \\text{e}^{i\\theta}U$, we remove the global phase $\\text{e}^{i\\theta}$ from $V$ before computing the norm, and you will have a successful submission. As a result, you do not have to worry about matching the desired unitary, $U$, up to a global phase.**\n",
    "\n",
    "The cost function that we have defined is something like this\n",
    "$$\n",
    "\\qquad \\text{cost} = 10 \\cdot n_{cx} + n_{u3}\n",
    "$$\n",
    "\n",
    "**Note that you will need to ensure that your circuit is composed only of $u3$ and $cx$ gates. The exercise is considered correctly solved if your cost is smaller than 1200.**\n",
    "\n",
    "In the cell below you can go ahead and try to execute this in a circuit. Note that we have added a transpile function in the cell below since we are going to calculate the cost after your circuit has been transpiled into only CNOT gates and U3 gates. You can find the documentation for the transpile function <a href = \"https://qiskit.org/documentation/stubs/qiskit.compiler.transpile.html\">here</a>.\n",
    "\n",
    "Another function that might come in handy for starting with is the <code>QuantumCircuit.unitary(obj, qubits[, label])</code> which simply applies the unitary gate <code>obj</code> to the given <code>qubits</code>."
   ]
  },
  {
   "cell_type": "code",
   "execution_count": null,
   "metadata": {
    "colab": {},
    "colab_type": "code",
    "id": "l88Q-3mwK1LP"
   },
   "outputs": [],
   "source": [
    "qc = QuantumCircuit(4)\n",
    "#\n",
    "#\n",
    "#Your code here\n",
    "#\n",
    "#\n",
    "qc = transpile(qc,basis_gates=['cx','u3'],optimization_level=3)\n",
    "qc.draw('mpl')"
   ]
  },
  {
   "cell_type": "code",
   "execution_count": null,
   "metadata": {
    "colab": {},
    "colab_type": "code",
    "id": "4E3w6VTiK1LS",
    "scrolled": true
   },
   "outputs": [],
   "source": [
    "#Run this cell for getting your circuit checked\n",
    "check_circuit(qc)"
   ]
  }
 ],
 "metadata": {
  "colab": {
   "collapsed_sections": [],
   "name": "Final Question 2: Unitary Circuit Building.ipynb",
   "provenance": []
  },
  "kernelspec": {
   "display_name": "Python 3",
   "language": "python",
   "name": "python3"
  },
  "language_info": {
   "codemirror_mode": {
    "name": "ipython",
    "version": 3
   },
   "file_extension": ".py",
   "mimetype": "text/x-python",
   "name": "python",
   "nbconvert_exporter": "python",
   "pygments_lexer": "ipython3",
   "version": "3.7.4"
  }
 },
 "nbformat": 4,
 "nbformat_minor": 1
}
