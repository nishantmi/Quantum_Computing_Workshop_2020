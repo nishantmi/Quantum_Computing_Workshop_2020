{
 "cells": [
  {
   "cell_type": "markdown",
   "metadata": {
    "colab_type": "text",
    "id": "WyqeWtBKMXBW"
   },
   "source": [
    "# Quantum Fourier transform and its applications: Part 2\n",
    "\n",
    "Suppose $f$ is a periodic function producing a single bit as output and such that $f(x + r)=f(x)$, for some unknown $0 <r<2^L$, where $x,r \\in \\{ 0,1,2,\\ldots \\}$. Given an oracle $U$ which performs the unitary transform $U|x\\rangle|y\\rangle \\to |x\\rangle|y \\oplus f(x)\\rangle$ (where $\\oplus$ denotes addition modulo $2^n$ where $n$ is size of that register) how many oracles and other operations are required to determine $r$? Note that in practice $U$ operates on a ﬁnite domain, whose size is determined by the desired accuracy for $r$. We will follow a quantum algorithm which solves this problem using one oracle, and $O(L^2)$ other operations. This problem involves finding the period of the function, thus called **period finding**."
   ]
  },
  {
   "cell_type": "code",
   "execution_count": null,
   "metadata": {
    "colab": {},
    "colab_type": "code",
    "id": "UzSqQmDjMXBX"
   },
   "outputs": [],
   "source": [
    "!pip install tabulate\n",
    "%matplotlib inline\n",
    "# Importing standard Qiskit libraries and configuring account\n",
    "from qiskit import QuantumCircuit, execute, Aer, IBMQ\n",
    "from qiskit.compiler import transpile, assemble\n",
    "from qiskit.tools.jupyter import *\n",
    "from qiskit.visualization import *\n",
    "from tabulate import tabulate\n",
    "import numpy as np\n",
    "# Loading your IBM Q account(s)\n",
    "provider = IBMQ.load_account()"
   ]
  },
  {
   "cell_type": "code",
   "execution_count": null,
   "metadata": {
    "colab": {},
    "colab_type": "code",
    "id": "-YBPsySiMXBc"
   },
   "outputs": [],
   "source": [
    "def qft_dagger(n):\n",
    "    \"\"\"n-qubit QFTdagger the first n qubits in circ\"\"\"\n",
    "    qc = QuantumCircuit(n)\n",
    "    # Don't forget the Swaps!\n",
    "    for qubit in range(n//2):\n",
    "        qc.swap(qubit, n-qubit-1)\n",
    "    for j in range(n):\n",
    "        for m in range(j):\n",
    "            qc.cu1(-np.pi/float(2**(j-m)), m, j)\n",
    "        qc.h(j)\n",
    "    qc.name = \"QFT†\"\n",
    "    return qc\n",
    "\n",
    "def __c_amod15(power):\n",
    "    \"\"\"Controlled multiplication by a mod 15\"\"\"\n",
    "    U = QuantumCircuit(4)        \n",
    "    for iteration in range(power):\n",
    "        U.swap(2,3)\n",
    "        U.swap(1,2)\n",
    "        U.swap(0,1)\n",
    "        for q in range(4):\n",
    "            U.x(q)\n",
    "    U = U.to_gate()\n",
    "    U.name = \"a^%i mod 15\" % (power)\n",
    "    c_U = U.control()\n",
    "    return c_U\n"
   ]
  },
  {
   "cell_type": "markdown",
   "metadata": {
    "colab_type": "text",
    "id": "Ka3xuj5gMXBf"
   },
   "source": [
    "(Note: Here $\\hat{x}$ is used for fourier transfrom and $\\tilde{x}$ is used for a good approximation of $x$)\n",
    "Here are the steps of the algorithm:\n",
    "\n",
    "1. We initialize the state to $|0\\rangle|0\\rangle$. Notice that the first one is a reigster with $t$ quibts all initialized to $|0\\rangle$.\n",
    "\n",
    "2. Then we create a superposition:\n",
    " $$\\to \\frac{1}{2^t} \\sum^{2^t-1}_{x=0} |x\\rangle|0\\rangle$$\n",
    "\n",
    " "
   ]
  },
  {
   "cell_type": "code",
   "execution_count": null,
   "metadata": {
    "colab": {},
    "colab_type": "code",
    "id": "RWZIc2DMMXBg"
   },
   "outputs": [],
   "source": [
    "t=3\n",
    "qc = QuantumCircuit(t+4,t)\n",
    "for i in range(t):\n",
    "    qc.h(i)      # The first t qubits are the first register (storing 'x')\n",
    "qc.x(6) #The second register is in state |1>"
   ]
  },
  {
   "cell_type": "markdown",
   "metadata": {
    "colab_type": "text",
    "id": "Z3udG3dpMXBi"
   },
   "source": [
    "3. We will now also make this into the state $\\frac{1}{2^t} \\sum^{2^t-1}_{x=0} |x\\rangle|1\\rangle$ since our oracle does multiplication instead of addition. Note that this is the same thing since all we need is the state. After we apply $O$ which is the multiplying oracle, we get,\n",
    "$$\\to \\frac{1}{2^t} \\sum_{x=0}^{2^t-1} |x\\rangle|f(x)\\rangle \\approx \\frac{1}{\\sqrt{r 2^t}} \\sum_{l=0}^{r-1} \\sum_{x=0}^{2^t-1} e^{2 \\pi i l x/r} |x\\rangle |\\hat{f}(l)\\rangle$$  \n",
    "\n",
    "Here we are taking $f(x) = 7^x \\text{ mod } 15$. Looking closely at it, it will reveal that it is designed to give a period of $4$. We will verify it. So the Oracle function is given below. Notice that even though we can take many other functions but finding the Oracle can be extremely difficult."
   ]
  },
  {
   "cell_type": "code",
   "execution_count": null,
   "metadata": {
    "colab": {},
    "colab_type": "code",
    "id": "DNO4AHiVMXBj"
   },
   "outputs": [],
   "source": [
    "# Oracle for the f(x) mentioned above\n",
    "def Oracle(qc):\n",
    "    for q in range(3):\n",
    "        qc.append(__c_amod15(2**q), [q] + [i+3 for i in range(4)])\n",
    "\n",
    "Oracle(qc)"
   ]
  },
  {
   "cell_type": "markdown",
   "metadata": {
    "colab_type": "text",
    "id": "Tjnr61uNMXBl"
   },
   "source": [
    "4. Now, by applying the inverse Fourier transform to the first register, we get:\n",
    "$$\\to \\frac{1}{\\sqrt{r}} \\sum_{l=0}^{r-1} |\\widetilde{l/r}\\rangle|\\hat{f}(l)\\rangle$$\n",
    "\n",
    "5. Then, measure the first register:\n",
    "$$ \\to \\widetilde{l/r}$$\n",
    "\n",
    "Now this has some abuse of notation happening here. So first off, the actual state would not be $\\widetilde{l/r}$ but rather would be $\\widetilde{l/r}*(2^t)\\mod(2^t)$ as the state stored in that register so on measurement you would have to analyze the results keeping this in mind. Using the results keeping this in mind, you can analyze the fractions of their phases of the eigen values of the oracle (the logic of phase estimation) and that would be $(\\widetilde{l/r}*(2^t)\\mod(2^t))/(2^t)$."
   ]
  },
  {
   "cell_type": "code",
   "execution_count": null,
   "metadata": {
    "colab": {},
    "colab_type": "code",
    "id": "x2fCtwMZMXBl"
   },
   "outputs": [],
   "source": [
    "qc.append(qft_dagger(t),range(t)) # inverse quantum fourier transform only of the register (first 4 qubits)\n",
    "qc.measure(range(t), range(t))\n",
    "def run_circuit(qc):\n",
    "    backend = Aer.get_backend('qasm_simulator') # we choose the simulator as our backend\n",
    "    result = execute(qc, backend, shots = 100000).result() # we run the simulation\n",
    "    counts = result.get_counts() # we get the counts\n",
    "    return counts\n",
    "\n",
    "counts = run_circuit(qc)\n",
    "print(counts)\n",
    "plot_histogram(counts)"
   ]
  },
  {
   "cell_type": "markdown",
   "metadata": {
    "colab_type": "text",
    "id": "oV7BnZB3MXBp"
   },
   "source": [
    "6. These results can now give us the phase estimations from their actual values and the next few cells will be to analyze these results so you can figure out the period. On a sidenote one can also see that since we have four equally possible results this would imply a period of four but for the sake of formality we must analyze this more.\n"
   ]
  },
  {
   "cell_type": "code",
   "execution_count": null,
   "metadata": {
    "colab": {},
    "colab_type": "code",
    "id": "5NwzAcUEMXBp"
   },
   "outputs": [],
   "source": [
    "rows, eigenvalues = [], []\n",
    "for output in counts:\n",
    "    decimal = int(output, 2)\n",
    "    eigenvalue = decimal/(2**t)\n",
    "    eigenvalues.append(eigenvalue)\n",
    "    rows.append([\"%s(bin) = %i(dec)\" % (output, decimal), \"%i/%i = %.2f\" % (decimal, 2**t, eigenvalue)])\n",
    "print(tabulate(rows, headers=[\"Register Output\", \"Phase\"]))"
   ]
  },
  {
   "cell_type": "markdown",
   "metadata": {
    "colab_type": "text",
    "id": "WfIc-w06MXBt"
   },
   "source": [
    "We can use built-in Python functionality `.as_integer_ratio()` to convert these phases to fractions:"
   ]
  },
  {
   "cell_type": "code",
   "execution_count": null,
   "metadata": {
    "colab": {},
    "colab_type": "code",
    "id": "fsQ-hjwfMXBt"
   },
   "outputs": [],
   "source": [
    "0.333333333.as_integer_ratio()"
   ]
  },
  {
   "cell_type": "code",
   "execution_count": null,
   "metadata": {
    "colab": {},
    "colab_type": "code",
    "id": "Hm0vWFqFMXBw"
   },
   "outputs": [],
   "source": [
    "rows = []\n",
    "for eigenvalue in eigenvalues:\n",
    "    numerator, denominator = eigenvalue.as_integer_ratio()\n",
    "    rows.append([eigenvalue, \"%i/%i\" % (numerator, denominator), denominator])\n",
    "print(tabulate(rows, headers=[\"Phase\", \"Fraction\", \"Guess for r\"], colalign=('right','right','right')))"
   ]
  },
  {
   "cell_type": "markdown",
   "metadata": {
    "colab_type": "text",
    "id": "vwkxnrRzMXBy"
   },
   "source": [
    "$2$ of our guesses for $r$ are $4$. This implies the period of function is $4$."
   ]
  }
 ],
 "metadata": {
  "colab": {
   "collapsed_sections": [],
   "name": "Day 6.2 Quantum Fourier transform and its applications: Part 2.ipynb",
   "provenance": []
  },
  "kernelspec": {
   "display_name": "Python 3",
   "language": "python",
   "name": "python3"
  },
  "language_info": {
   "codemirror_mode": {
    "name": "ipython",
    "version": 3
   },
   "file_extension": ".py",
   "mimetype": "text/x-python",
   "name": "python",
   "nbconvert_exporter": "python",
   "pygments_lexer": "ipython3",
   "version": "3.7.4"
  }
 },
 "nbformat": 4,
 "nbformat_minor": 1
}
