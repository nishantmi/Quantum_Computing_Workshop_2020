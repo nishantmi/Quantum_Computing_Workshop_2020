{
 "cells": [
  {
   "cell_type": "markdown",
   "metadata": {
    "colab_type": "text",
    "id": "fCQC6rLzMAsk"
   },
   "source": [
    "# The Deutsch-Josza Algorithm\n",
    "The Deutsch-Josza algorithm is useful in solving the Deutsch's problem described as follows:\n",
    "Alice selects a number $x$ from $0$ to $2^n-1$ and sends it to Bob who calculates $f(x)$ and sends it back to Alice. The function $f(x)$ attains either the value 0 or 1 for each $x$ and satisfies either one of the following two properties:\n",
    "1. $f(x)$ is *constant* for all values of $x$.\n",
    "2. $f(x)$ is *balanced*, i,e., it attains the value 0 for exactly half of all possible $x$ and 1 for the other half.\n",
    "\n",
    "Alice's job is to determine whether the function is constant or balanced. In the classical situation, where Alice sends n bits to represent her number each time, at worst it would take $\\frac{2^n}{2}+1$ trials for Alice to determine, since a function could attain the same value for the first half of trials and the next trial could still give a different value, if it were balanced.\n",
    "\n",
    "\n",
    "If Alice and Bob use qubits, and Bob uses the unitary operator $U_f$ to calculate $f(x)$ then Alice's number is stored in the $n$ qubit query register and Bob uses the single qubit answer register to store the result of his operator. Alice then follows the described algorithm to carry out the task.\n",
    "\n",
    "<img src=\"https://raw.githubusercontent.com/mnp-club/Quantum_Computing_Workshop_2020/master/images/jozsa.jpg\" width=500 height=400> </img>\n",
    "\n",
    "The input state is $$\\vert \\psi_0 \\rangle = \\vert 0 \\rangle^{\\otimes n}\\vert 1\\rangle.$$\n",
    "After applying the Hadamard transform on all the qubits, the state is:\n",
    "\\begin{align*}\n",
    "\\vert \\psi_1 \\rangle &=\\left(\\frac{\\vert 0 \\rangle + \\vert 1 \\rangle}{\\sqrt{2}}\\right)^{\\otimes n}\\left(\\frac{\\vert 0 \\rangle -\\vert 1\\rangle}{\\sqrt{2}}\\right)\\\\\n",
    "&=\\sum\\limits_{x\\in\\{0,1\\}^n}\\frac{\\vert x \\rangle}{\\sqrt{2^n}}\\left(\\frac{\\vert 0 \\rangle -\\vert 1\\rangle}{\\sqrt{2}}\\right)\n",
    "\\end{align*}\n",
    "If we apply $U_f$ gate to state $\\vert x \\rangle \\left( \\frac{\\vert 0\\rangle - \\vert 1\\rangle}{\\sqrt{2}}\\right)$, we get the following state\n",
    " \n",
    "\\begin{align*}\n",
    "\\vert x \\rangle\\left(\\frac{\\vert f(x)\\rangle -\\vert 1\\oplus f(x)\\rangle}{\\sqrt{2}}\\right)\n",
    "&=\\begin{cases}\n",
    "\t\t\\vert x \\rangle\\left(\\frac{\\vert 0\\rangle -\\vert 1\\rangle}{\\sqrt{2}}\\right) & \\text{if $f(x)=0$}\\\\\n",
    "\t\t\\vert x \\rangle\\left(\\frac{\\vert 1\\rangle -\\vert 0\\rangle}{\\sqrt{2}}\\right) & \\text{if $f(x)=1$}\\\\\n",
    "\t\\end{cases}\\\\\n",
    "&=(-1)^{f(x)}\\vert x \\rangle \\left(\\frac{\\vert 0\\rangle -\\vert 1\\rangle}{\\sqrt{2}}\\right)\n",
    "\\end{align*} So, on applying $U_f$ to $\\vert \\psi_1 \\rangle$, we get:\n",
    "$$\\vert \\psi_2 \\rangle=\\sum\\limits_{x}\\frac{(-1)^{f(x)}\\vert x \\rangle}{\\sqrt{2^n}}\\left(\\frac{\\vert 0 \\rangle -\\vert 1\\rangle}{\\sqrt{2}}\\right).$$\n",
    "For a single qubit $\\vert x \\rangle,$ $$H\\vert x \\rangle=\\sum\\limits_{z}\\frac{(-1)^{xz}\\vert z \\rangle}{\\sqrt{2}}.$$\n",
    "For $n$ qubits $$H^{\\otimes n}\\vert x_1,...x_n \\rangle=\\sum\\limits_{z_1,...z_n}\\frac{(-1)^{x_1z_1+...x_nz_n}\\vert z_1,...z_n \\rangle}{\\sqrt{2^n}}$$\n",
    "i.e., $$H^{\\otimes n}\\vert x \\rangle=\\sum\\limits_{z}\\frac{(-1)^{x\\cdot z}\\vert z \\rangle}{\\sqrt{2^n}}$$ where $x\\cdot z$ represents the bitwise inner product of $x$ and $z$, modulo 2.\n",
    "\n",
    "Applying Hadamard transform on the query register, we obtain\n",
    "$$\\vert \\psi_3 \\rangle=\\sum\\limits_z\\sum\\limits_{x}\\frac{(-1)^{x.z+f(x)}\\vert z \\rangle}{2^n}\\left(\\frac{\\vert 0 \\rangle -\\vert 1\\rangle}{\\sqrt{2}}\\right).$$\n",
    "\n",
    "The amplitude for the state $\\vert 0 \\rangle^{\\otimes n}$ is $\\displaystyle{\\sum\\limits_{x}\\frac{(-1)^{f(x)}}{2^n}}$.\n",
    "\n",
    "If $f$ is constant, the amplitude will be $\\pm 1$, which means all other amplitudes will be 0, so an observation will yield 0s for all qubits in the query register. If $f$ is balanced, then the positive and negative contributions to the amplitude of the state $\\vert 0 \\rangle^{\\otimes n}$ cancel, leaving an amplitude of 0, and a measurement must yield a result other than 0 on at least one qubit in the query register.\n",
    "\n",
    "Therefore, if on measuring the query register, Alice obtains all 0s  then the function is constant; otherwise the function is balanced. \n",
    "\n",
    "Hence, a quantum computer can solve Deutsch’s problem with one evaluation of the function $f$ compared to the classical requirement for $\\frac{2^n}{2}+1$ evaluations."
   ]
  },
  {
   "cell_type": "code",
   "execution_count": 1,
   "metadata": {
    "colab": {},
    "colab_type": "code",
    "id": "VUmAdMH4MAsg"
   },
   "outputs": [],
   "source": [
    "%matplotlib inline\n",
    "# Importing standard Qiskit libraries and configuring account\n",
    "from qiskit import QuantumCircuit, execute, Aer, IBMQ\n",
    "from qiskit.compiler import transpile, assemble\n",
    "from qiskit.tools.jupyter import *\n",
    "from qiskit.visualization import *\n",
    "import numpy as np\n",
    "from fractions import Fraction as frac \n",
    "import qiskit.quantum_info as qi\n",
    "# Loading your IBM Q account(s)\n",
    "provider = IBMQ.load_account()"
   ]
  },
  {
   "cell_type": "markdown",
   "metadata": {
    "colab_type": "text",
    "id": "__27cO-5MAsl"
   },
   "source": [
    "## Creating Quantum Oracles\n",
    "Now, we will attempt to construct a circuit in order to demonstrate the above algorithm for a particular case. Before that let's have a look at the internal circuitry of the quantum oracles $U_f$ used to calculate $f(x)$.\n",
    "\n",
    "For a constant function, it is simple:\n",
    "\n",
    "  1. if $f(x)$ = 0, then $\\vert y \\oplus f(x)\\rangle = \\vert y\\rangle$ so apply the  $I$  gate to the qubit in register 2 (i.e., no need to apply any gates).\n",
    "  2. if $f(x)$ = 1, then $\\vert y \\oplus f(x)\\rangle = \\vert y \\oplus 1\\rangle$ so apply the  $X$  gate to the qubit in register 2.\n",
    "  \n",
    "A simple way to create a balanced function is by applying the CNOT gate for each qubit in register 1, with the qubit in register 2 as the target. Shown below is an example of a quantum oracle for a balanced function to be applied to a 3-qubit system:"
   ]
  },
  {
   "cell_type": "code",
   "execution_count": 2,
   "metadata": {
    "colab": {},
    "colab_type": "code",
    "id": "sIV_EugkMAsl"
   },
   "outputs": [
    {
     "data": {
      "image/png": "[encoded data removed]",
      "text/plain": [
       "<Figure size 358.792x264.88 with 1 Axes>"
      ]
     },
     "execution_count": 2,
     "metadata": {},
     "output_type": "execute_result"
    }
   ],
   "source": [
    "qc=QuantumCircuit(4)\n",
    "\n",
    "#In this particular oracle, the last qubit is storing the value of the function\n",
    "\n",
    "qc.cx(0,3)\n",
    "qc.cx(1,3)\n",
    "qc.cx(2,3)\n",
    "#The last qubit is 1 if there are odd no. of 1s in the other 3 qubits\n",
    "#and 0 otherwise\n",
    "#Hence it is a balanced function\n",
    "\n",
    "qc.draw('mpl')"
   ]
  },
  {
   "cell_type": "markdown",
   "metadata": {
    "colab_type": "text",
    "id": "6e-lCePnMAsq"
   },
   "source": [
    "## Example of a quantum circuit for the Deutsch-Josza Algorithm:\n",
    "Here we will take the simple case wherein the number chosen lies in the range 0 to 3 (i.e. $2^2 - 1$ ) and the function is balanced. The part of the quantum circuit between the barriers is one possible representation of the quantum oracle for this function."
   ]
  },
  {
   "cell_type": "code",
   "execution_count": 3,
   "metadata": {
    "colab": {},
    "colab_type": "code",
    "id": "z83gT6zcMAsr"
   },
   "outputs": [
    {
     "data": {
      "image/png": "[encoded data removed]",
      "text/plain": [
       "<Figure size 719.992x264.88 with 1 Axes>"
      ]
     },
     "execution_count": 3,
     "metadata": {},
     "output_type": "execute_result"
    }
   ],
   "source": [
    "qc1=QuantumCircuit(3)\n",
    "qc1.x(2)\n",
    "qc1.h(0)\n",
    "qc1.h(1)\n",
    "qc1.h(2)\n",
    "\n",
    "qc1.barrier(range(3))\n",
    "qc1.cx(0,2)\n",
    "qc1.cx(1,2)\n",
    "qc1.barrier(range(3))\n",
    "qc1.h(0)\n",
    "qc1.h(1)\n",
    "\n",
    "meas = QuantumCircuit(3, 2)\n",
    "meas.measure(range(2),range(2))\n",
    "\n",
    "# The Qiskit circuit object supports composition using\n",
    "# the addition operator.\n",
    "circ = qc1+meas\n",
    "\n",
    "circ.draw('mpl')"
   ]
  },
  {
   "cell_type": "markdown",
   "metadata": {
    "colab_type": "text",
    "id": "8G95o93ZMAsv"
   },
   "source": [
    "The following is the result obtained on measuring the query register:"
   ]
  },
  {
   "cell_type": "code",
   "execution_count": 4,
   "metadata": {
    "colab": {},
    "colab_type": "code",
    "id": "ZBLhhq4SMAsw"
   },
   "outputs": [
    {
     "name": "stdout",
     "output_type": "stream",
     "text": [
      "{'11': 1000}\n"
     ]
    },
    {
     "data": {
      "image/png": "[encoded data removed]",
      "text/plain": [
       "<Figure size 504x360 with 1 Axes>"
      ]
     },
     "execution_count": 4,
     "metadata": {},
     "output_type": "execute_result"
    }
   ],
   "source": [
    "backend_sim = Aer.get_backend('qasm_simulator')\n",
    "\n",
    "job_sim = execute(circ, backend_sim, shots=1000)\n",
    "\n",
    "result_sim = job_sim.result()\n",
    "counts = result_sim.get_counts(circ)\n",
    "print(counts)\n",
    "plot_histogram(counts)"
   ]
  },
  {
   "cell_type": "markdown",
   "metadata": {
    "colab_type": "text",
    "id": "jW80PBRMMAsy"
   },
   "source": [
    "Since we do not get an output $\\vert 00\\rangle$, the function must be balanced."
   ]
  },
  {
   "cell_type": "markdown",
   "metadata": {
    "colab_type": "text",
    "id": "MSLCES23MAsz"
   },
   "source": [
    "## Your Task:\n",
    "**(5 points)**\n",
    "\n",
    "Your task is to make a quantum circuit (the rest is done for you, you just need to construct the oracle for the below function) for a 4-qubit query resgister. The function is balanced with outputs for each $x$ as given below:\n",
    "\n",
    "| &nbsp; &nbsp;&nbsp; &nbsp; **$x$ :**  &nbsp;  &nbsp; &nbsp; &nbsp; | &nbsp; &nbsp;&nbsp; &nbsp; **$f(x)$** &nbsp; &nbsp;&nbsp; &nbsp; | &nbsp; &nbsp;&nbsp; &nbsp; **$x$ :**  &nbsp;  &nbsp;&nbsp; &nbsp;| &nbsp; &nbsp;&nbsp; &nbsp; **$f(x)$** &nbsp; &nbsp;&nbsp; &nbsp; |\n",
    "| :-------------: | :----------: | :-------------------: | :----------: |\n",
    "| $\\vert 0000 \\rangle $ | 1 | $\\vert 1000 \\rangle $ | 0 |\n",
    "| $\\vert 0001 \\rangle $ | 0 | $\\vert 1001 \\rangle $ | 1 |\n",
    "| $\\vert 0010 \\rangle $ | 0 | $\\vert 1010 \\rangle $ | 1 |\n",
    "| $\\vert 0011 \\rangle $ | 1 | $\\vert 1011 \\rangle $ | 0 |\n",
    "| $\\vert 0100 \\rangle $ | 0 | $\\vert 1100 \\rangle $ | 1 |\n",
    "| $\\vert 0101 \\rangle $ | 1 | $\\vert 1101 \\rangle $ | 0 |\n",
    "| $\\vert 0110 \\rangle $ | 1 | $\\vert 1110 \\rangle $ | 0 |\n",
    "| $\\vert 0111 \\rangle $ | 0 | $\\vert 1111 \\rangle $ | 1 |\n"
   ]
  },
  {
   "cell_type": "markdown",
   "metadata": {},
   "source": [
    "**Solution:**"
   ]
  },
  {
   "cell_type": "code",
   "execution_count": 5,
   "metadata": {
    "colab": {},
    "colab_type": "code",
    "id": "tG-dN9-HMAsz"
   },
   "outputs": [
    {
     "data": {
      "image/png": "[encoded data removed]",
      "text/plain": [
       "<Figure size 1081.19x385.28 with 1 Axes>"
      ]
     },
     "execution_count": 5,
     "metadata": {},
     "output_type": "execute_result"
    }
   ],
   "source": [
    "qc2=QuantumCircuit(5)\n",
    "qc2.x(4)\n",
    "qc2.h(0)\n",
    "qc2.h(1)\n",
    "qc2.h(2)\n",
    "qc2.h(3)\n",
    "qc2.h(4)\n",
    "\n",
    "qc2.barrier(range(5))\n",
    "#The oracle:\n",
    "qc2.x(0)\n",
    "qc2.x(1)\n",
    "qc2.x(3)\n",
    "\n",
    "qc2.cx(0,4)\n",
    "qc2.cx(1,4)\n",
    "qc2.cx(2,4)\n",
    "qc2.cx(3,4)\n",
    "\n",
    "qc2.x(0)\n",
    "qc2.x(1)\n",
    "qc2.x(3)\n",
    "#oracle ends here\n",
    "qc2.barrier(range(5))\n",
    "qc2.h(0)\n",
    "qc2.h(1)\n",
    "qc2.h(2)\n",
    "qc2.h(3)\n",
    "\n",
    "meas2 = QuantumCircuit(5, 4)\n",
    "meas2.measure(range(4),range(4))\n",
    "\n",
    "circ2 = qc2+meas2\n",
    "circ2.draw('mpl')\n"
   ]
  },
  {
   "cell_type": "markdown",
   "metadata": {
    "colab_type": "raw",
    "id": "hi0NJle7MAs2"
   },
   "source": [
    "For demonstrating the values of the function for different inputs, we will use the following circuit. Add and remove $X$ gates as you please, in order to check $f(x)$ for different values of $x$. In this case, $q_4$ will directly give $f(x)$:"
   ]
  },
  {
   "cell_type": "code",
   "execution_count": 6,
   "metadata": {
    "colab": {},
    "colab_type": "code",
    "id": "GAMumA-wMAs2"
   },
   "outputs": [
    {
     "data": {
      "image/png": "[encoded data removed]",
      "text/plain": [
       "<Figure size 780.192x385.28 with 1 Axes>"
      ]
     },
     "execution_count": 6,
     "metadata": {},
     "output_type": "execute_result"
    }
   ],
   "source": [
    "#verification cell, reinitialising the circuit so that it's easier for you to copy-paste the oracle\n",
    "qc2=QuantumCircuit(5)\n",
    "#Add X gates HERE as required to change the input state\n",
    "#Let's check for |1001>\n",
    "qc2.x(0)\n",
    "qc2.x(3)\n",
    "\n",
    "qc2.barrier(range(5))\n",
    "\n",
    "#Copy and paste your code for the oracle from the above cell here\n",
    "qc2.x(0)\n",
    "qc2.x(1)\n",
    "qc2.x(3)\n",
    "\n",
    "qc2.cx(0,4)\n",
    "qc2.cx(1,4)\n",
    "qc2.cx(2,4)\n",
    "qc2.cx(3,4)\n",
    "\n",
    "qc2.x(0)\n",
    "qc2.x(1)\n",
    "qc2.x(3)\n",
    "\n",
    "\n",
    "\n",
    "qc2.barrier(range(5))\n",
    "\n",
    "measv = QuantumCircuit(5, 1)\n",
    "measv.measure(4,0)\n",
    "\n",
    "circv = qc2+measv\n",
    "circv.draw('mpl')\n",
    "\n"
   ]
  },
  {
   "cell_type": "code",
   "execution_count": 7,
   "metadata": {
    "colab": {},
    "colab_type": "code",
    "id": "VW5CPwMEMAs5"
   },
   "outputs": [
    {
     "name": "stdout",
     "output_type": "stream",
     "text": [
      "{'1': 1000}\n"
     ]
    },
    {
     "data": {
      "image/png": "[encoded data removed]",
      "text/plain": [
       "<Figure size 504x360 with 1 Axes>"
      ]
     },
     "execution_count": 7,
     "metadata": {},
     "output_type": "execute_result"
    }
   ],
   "source": [
    "#DO NOT RUN THIS CELL WITHOUT EDITING THE ABOVE ONE AS DESIRED\n",
    "#The following code will give you f(x) for the value of x you chose in the above cell\n",
    "backend_sim2 = Aer.get_backend('qasm_simulator')\n",
    "\n",
    "job_sim2 = execute(circv, backend_sim2, shots=1000)\n",
    "\n",
    "result_sim2 = job_sim2.result()\n",
    "counts2 = result_sim2.get_counts(circv)\n",
    "print(counts2)\n",
    "plot_histogram(counts2)\n",
    "\n",
    "#Similarly you can check f(x) for different values of x"
   ]
  }
 ],
 "metadata": {
  "colab": {
   "collapsed_sections": [],
   "name": "Day 4 Deutsch Josza algorithm.ipynb",
   "provenance": []
  },
  "kernelspec": {
   "display_name": "Python 3",
   "language": "python",
   "name": "python3"
  },
  "language_info": {
   "codemirror_mode": {
    "name": "ipython",
    "version": 3
   },
   "file_extension": ".py",
   "mimetype": "text/x-python",
   "name": "python",
   "nbconvert_exporter": "python",
   "pygments_lexer": "ipython3",
   "version": "3.8.3"
  }
 },
 "nbformat": 4,
 "nbformat_minor": 1
}
