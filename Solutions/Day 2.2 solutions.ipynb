{
 "cells": [
  {
   "cell_type": "markdown",
   "metadata": {},
   "source": [
    "# DAY 2.2 MODULE SOLUTIONS"
   ]
  },
  {
   "cell_type": "code",
   "execution_count": null,
   "metadata": {},
   "outputs": [],
   "source": [
    "from qiskit import *\n",
    "from qiskit.tools.jupyter import *\n",
    "from qiskit.visualization import *\n",
    "import matplotlib.pyplot as plotter\n",
    "import numpy as np\n",
    "from IPython.display import display, Math, Latex\n",
    "%matplotlib inline\n",
    "# Loading your IBM Q account(s)\n",
    "provider = IBMQ.load_account()\n",
    "\n",
    "def run_circuit(qc):\n",
    "    backend = Aer.get_backend('qasm_simulator') # we choose the simulator as our backend\n",
    "    result = execute(qc, backend, shots = 200000).result() # we run the simulation\n",
    "    counts = result.get_counts() # we get the counts\n",
    "    return counts"
   ]
  },
  {
   "cell_type": "code",
   "execution_count": null,
   "metadata": {},
   "outputs": [],
   "source": [
    "THE ONLY TASK"
   ]
  },
  {
   "cell_type": "code",
   "execution_count": null,
   "metadata": {},
   "outputs": [],
   "source": [
    "qc1 = QuantumCircuit(2,2)\n",
    "# preparing 'a' bell pair which is |beta_00> here\n",
    "qc1.h(0)\n",
    "qc1.cx(0,1)\n",
    "qc1.barrier([0,1])\n",
    "\n",
    "# Apply any pauli gate here\n",
    "a = input(\"BE SKYLER. APPLY ANY OF THE FOUR PAULI GATES:\")\n",
    "if a == 'X':\n",
    "    qc1.x(1) \n",
    "if a == 'Y':\n",
    "    qc1.y(1)\n",
    "if a == 'Z':\n",
    "    qc1.z(1)\n",
    "# if it's not any of them, it's I. So we don't need to do anything.\n",
    "qc1.barrier([0,1])\n",
    "\n",
    "# Change the state into standard states: |00>, |01>, |10>, |11> depending on the gate applied\n",
    "qc1.cx(0,1)\n",
    "qc1.h(0)\n",
    "\n",
    "#Measure\n",
    "qc1.measure([0,1],[0,1])\n",
    "backend = Aer.get_backend('qasm_simulator')\n",
    "result = execute(qc1, backend, shots = 1024).result()\n",
    "counts = result.get_counts()\n",
    "plot_histogram(counts)\n",
    "\n",
    "# On observation we get this mapping\n",
    "print('Skyler applied this gate: ')\n",
    "if '00' in counts.keys():\n",
    "    print('I') # She bluffed.  # Don't worry if you haven't considered this case. Happens.\n",
    "elif '10' in counts.keys():\n",
    "    print('X')\n",
    "elif '11' in counts.keys():\n",
    "    print('Y')\n",
    "else:\n",
    "    print('Z')\n",
    "plot_histogram(counts)"
   ]
  },
  {
   "cell_type": "code",
   "execution_count": null,
   "metadata": {},
   "outputs": [],
   "source": []
  }
 ],
 "metadata": {
  "kernelspec": {
   "display_name": "Python 3",
   "language": "python",
   "name": "python3"
  },
  "language_info": {
   "codemirror_mode": {
    "name": "ipython",
    "version": 3
   },
   "file_extension": ".py",
   "mimetype": "text/x-python",
   "name": "python",
   "nbconvert_exporter": "python",
   "pygments_lexer": "ipython3",
   "version": "3.7.6"
  }
 },
 "nbformat": 4,
 "nbformat_minor": 4
}
