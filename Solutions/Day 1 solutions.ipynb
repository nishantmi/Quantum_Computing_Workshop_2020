{
 "cells": [
  {
   "cell_type": "markdown",
   "metadata": {},
   "source": [
    "# DAY 1 MODULE SOLUTIONS"
   ]
  },
  {
   "cell_type": "code",
   "execution_count": null,
   "metadata": {},
   "outputs": [],
   "source": [
    "from qiskit import *\n",
    "from qiskit.tools.jupyter import *\n",
    "from qiskit.visualization import *\n",
    "import matplotlib.pyplot as plotter\n",
    "import numpy as np\n",
    "from IPython.display import display, Math, Latex\n",
    "%matplotlib inline\n",
    "# Loading your IBM Q account(s)\n",
    "provider = IBMQ.load_account()\n",
    "\n",
    "def run_circuit(qc):\n",
    "    backend = Aer.get_backend('qasm_simulator') # we choose the simulator as our backend\n",
    "    result = execute(qc, backend, shots = 200000).result() # we run the simulation\n",
    "    counts = result.get_counts() # we get the counts\n",
    "    return counts"
   ]
  },
  {
   "cell_type": "markdown",
   "metadata": {},
   "source": [
    "TASK 1:"
   ]
  },
  {
   "cell_type": "code",
   "execution_count": null,
   "metadata": {},
   "outputs": [],
   "source": [
    "# qc1 was already initialised to |1>|1>.\n",
    "qc1.h(0)\n",
    "# qc1 => (|0>|1> + |1>|1>)/sqrt(2)\n",
    "qc1.cx(0,1)\n",
    "# qc1 => (|0>|1> + |1>|0>)/sqrt(2)\n",
    "\n",
    "#measure\n",
    "qc1.measure([0,1],[0,1])\n",
    "counts = run_circuit(qc1)\n",
    "print(counts)\n",
    "plot_histogram(counts)"
   ]
  },
  {
   "cell_type": "markdown",
   "metadata": {},
   "source": [
    "TASK 2:"
   ]
  },
  {
   "cell_type": "code",
   "execution_count": null,
   "metadata": {},
   "outputs": [],
   "source": [
    "qc_swap = QuantumCircuit(2,2)\n",
    "qc_swap.x(0)\n",
    "#initial state => |1>|0>\n",
    "\n",
    "# applying swap\n",
    "qc_swap.cx(0,1)\n",
    "qc_swap.cx(1,0)\n",
    "qc_swap.cx(0,1)  #Following from the circuit diagram.\n",
    "# There is also qc_swap.swap(0,1)\n",
    "\n",
    "# measure\n",
    "qc_swap.measure([0,1],[0,1])\n",
    "counts = run_circuit(qc_swap)\n",
    "print(counts)\n",
    "plot_histogram(counts)"
   ]
  },
  {
   "cell_type": "markdown",
   "metadata": {},
   "source": [
    "TASK 3:"
   ]
  },
  {
   "cell_type": "code",
   "execution_count": null,
   "metadata": {},
   "outputs": [],
   "source": [
    "qc5 = QuantumCircuit(2,2)\n",
    "qc5.x(1)\n",
    "# initial state is |0>|1> SO THAT WE KNOW WHAT BOTH |0> AND |1> MAP TO.\n",
    "# A lot of people did a mistake here in not understanding why we are using |0> and |1>\n",
    "\n",
    "#apply HZH on both qubits.\n",
    "qc5.h([0,1])\n",
    "qc5.z([0,1])\n",
    "qc5.h([0,1])\n",
    "\n",
    "# measure\n",
    "qc5.measure([0,1],[0,1])\n",
    "\n",
    "counts = run_circuit(qc5)\n",
    "print(counts)\n",
    "plot_histogram(counts)\n",
    "# final state would be |1>|0> = X(|0>|1>)\n",
    "# Hence they are equal (Actually not. We can only conclude that they agree only upto a global phase. I think now you can appreciate this now.)"
   ]
  },
  {
   "cell_type": "markdown",
   "metadata": {},
   "source": [
    "TASK 4:"
   ]
  },
  {
   "cell_type": "code",
   "execution_count": null,
   "metadata": {},
   "outputs": [],
   "source": [
    "qc6 = QuantumCircuit(3,3)\n",
    "qc6.x(0) # Set any one qubit of the 2 swapping qubits to '1' to see a noticable difference between input and output.\n",
    "qc6.initialize([1/np.sqrt(2), -complex(1,1)/2],2) # Optional. Initializing the 3rd qubit.\n",
    "\n",
    "# convert 3rd qubit into |1>\n",
    "qc6.tdg(2) \n",
    "qc6.h(2)\n",
    "# OR\n",
    "#qc6.t(2)\n",
    "#qc6.s(2)\n",
    "#qc6.h(2)\n",
    "#qc6.x(2)\n",
    "# You can check that they are equivalent.\n",
    "\n",
    "# As you know now, it's a Fredkin gate.\n",
    "qc6.toffoli(2,1,0)\n",
    "qc6.toffoli(2,0,1)\n",
    "qc6.toffoli(2,1,0)\n",
    "\n",
    "#reset the third qubit to its intial state\n",
    "qc6.h(2)\n",
    "qc6.t(2)\n",
    "\n",
    "# Measure\n",
    "qc6.measure([0,1,2],[0,1,2])\n",
    "counts = run_circuit(qc6)\n",
    "print(counts)\n",
    "plot_histogram(counts)"
   ]
  }
 ],
 "metadata": {
  "kernelspec": {
   "display_name": "Python 3",
   "language": "python",
   "name": "python3"
  },
  "language_info": {
   "codemirror_mode": {
    "name": "ipython",
    "version": 3
   },
   "file_extension": ".py",
   "mimetype": "text/x-python",
   "name": "python",
   "nbconvert_exporter": "python",
   "pygments_lexer": "ipython3",
   "version": "3.7.6"
  }
 },
 "nbformat": 4,
 "nbformat_minor": 4
}
